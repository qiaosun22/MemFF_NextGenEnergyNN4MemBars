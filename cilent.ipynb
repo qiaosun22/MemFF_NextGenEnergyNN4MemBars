{
 "cells": [
  {
   "cell_type": "code",
   "execution_count": 1,
   "metadata": {},
   "outputs": [],
   "source": [
    "import paramiko"
   ]
  },
  {
   "cell_type": "code",
   "execution_count": 4,
   "metadata": {},
   "outputs": [],
   "source": [
    "hostname = '192.168.1.100'\n",
    "port = 22\n",
    "username = 'root'\n",
    "password = 'xilinx'\n",
    "# ssh -p 18273 root@region-42.seetacloud.com\n",
    "\n",
    "ssh_client = paramiko.SSHClient()\n",
    "ssh_client.set_missing_host_key_policy(paramiko.AutoAddPolicy())\n",
    "\n",
    "ssh_client.connect(hostname, port=port, username=username, password=password)"
   ]
  },
  {
   "cell_type": "code",
   "execution_count": 1,
   "metadata": {},
   "outputs": [],
   "source": [
    "import paramiko\n",
    "import base64\n",
    "import pickle\n",
    "import time\n",
    "import os\n",
    "from PIL import Image\n",
    "import cv2\n",
    "import numpy as np\n",
    "\n",
    "from torchvision import transforms  # Transformations we can perform on our dataset for augmentation\n",
    "\n",
    "transform = transforms.Compose([\n",
    "    transforms.Resize((28, 28)), \n",
    "    transforms.ToTensor(),\n",
    "    transforms.Normalize(mean=[0.485, 0.456, 0.406], std=[0.229, 0.224, 0.225]) \n",
    "])"
   ]
  },
  {
   "cell_type": "code",
   "execution_count": 14,
   "metadata": {},
   "outputs": [
    {
     "ename": "NoValidConnectionsError",
     "evalue": "[Errno None] Unable to connect to port 27865 on 81.70.82.17",
     "output_type": "error",
     "traceback": [
      "\u001b[0;31m---------------------------------------------------------------------------\u001b[0m",
      "\u001b[0;31mNoValidConnectionsError\u001b[0m                   Traceback (most recent call last)",
      "Cell \u001b[0;32mIn[14], line 10\u001b[0m\n\u001b[1;32m      7\u001b[0m ssh_client \u001b[38;5;241m=\u001b[39m paramiko\u001b[38;5;241m.\u001b[39mSSHClient()\n\u001b[1;32m      8\u001b[0m ssh_client\u001b[38;5;241m.\u001b[39mset_missing_host_key_policy(paramiko\u001b[38;5;241m.\u001b[39mAutoAddPolicy())\n\u001b[0;32m---> 10\u001b[0m \u001b[43mssh_client\u001b[49m\u001b[38;5;241;43m.\u001b[39;49m\u001b[43mconnect\u001b[49m\u001b[43m(\u001b[49m\u001b[43mhostname\u001b[49m\u001b[43m,\u001b[49m\u001b[43m \u001b[49m\u001b[43mport\u001b[49m\u001b[38;5;241;43m=\u001b[39;49m\u001b[43mport\u001b[49m\u001b[43m,\u001b[49m\u001b[43m \u001b[49m\u001b[43musername\u001b[49m\u001b[38;5;241;43m=\u001b[39;49m\u001b[43musername\u001b[49m\u001b[43m,\u001b[49m\u001b[43m \u001b[49m\u001b[43mpassword\u001b[49m\u001b[38;5;241;43m=\u001b[39;49m\u001b[43mpassword\u001b[49m\u001b[43m)\u001b[49m\n",
      "File \u001b[0;32m~/anaconda3/envs/forward/lib/python3.10/site-packages/paramiko/client.py:409\u001b[0m, in \u001b[0;36mSSHClient.connect\u001b[0;34m(self, hostname, port, username, password, pkey, key_filename, timeout, allow_agent, look_for_keys, compress, sock, gss_auth, gss_kex, gss_deleg_creds, gss_host, banner_timeout, auth_timeout, channel_timeout, gss_trust_dns, passphrase, disabled_algorithms, transport_factory, auth_strategy)\u001b[0m\n\u001b[1;32m    403\u001b[0m     \u001b[38;5;66;03m# Make sure we explode usefully if no address family attempts\u001b[39;00m\n\u001b[1;32m    404\u001b[0m     \u001b[38;5;66;03m# succeeded. We've no way of knowing which error is the \"right\"\u001b[39;00m\n\u001b[1;32m    405\u001b[0m     \u001b[38;5;66;03m# one, so we construct a hybrid exception containing all the real\u001b[39;00m\n\u001b[1;32m    406\u001b[0m     \u001b[38;5;66;03m# ones, of a subclass that client code should still be watching for\u001b[39;00m\n\u001b[1;32m    407\u001b[0m     \u001b[38;5;66;03m# (socket.error)\u001b[39;00m\n\u001b[1;32m    408\u001b[0m     \u001b[38;5;28;01mif\u001b[39;00m \u001b[38;5;28mlen\u001b[39m(errors) \u001b[38;5;241m==\u001b[39m \u001b[38;5;28mlen\u001b[39m(to_try):\n\u001b[0;32m--> 409\u001b[0m         \u001b[38;5;28;01mraise\u001b[39;00m NoValidConnectionsError(errors)\n\u001b[1;32m    411\u001b[0m \u001b[38;5;28;01mif\u001b[39;00m transport_factory \u001b[38;5;129;01mis\u001b[39;00m \u001b[38;5;28;01mNone\u001b[39;00m:\n\u001b[1;32m    412\u001b[0m     transport_factory \u001b[38;5;241m=\u001b[39m Transport\n",
      "\u001b[0;31mNoValidConnectionsError\u001b[0m: [Errno None] Unable to connect to port 27865 on 81.70.82.17"
     ]
    }
   ],
   "source": [
    "hostname = 'region-42.seetacloud.com'\n",
    "port = 27865\n",
    "username = 'root'\n",
    "password = 'yo9HYuzba60O'\n",
    "# ssh -p 18273 root@region-42.seetacloud.com\n",
    "\n",
    "ssh_client = paramiko.SSHClient()\n",
    "ssh_client.set_missing_host_key_policy(paramiko.AutoAddPolicy())\n",
    "\n",
    "ssh_client.connect(hostname, port=port, username=username, password=password)"
   ]
  },
  {
   "cell_type": "code",
   "execution_count": 12,
   "metadata": {},
   "outputs": [],
   "source": [
    "sftp = ssh_client.open_sftp()"
   ]
  },
  {
   "cell_type": "markdown",
   "metadata": {},
   "source": [
    "# 目标服务器"
   ]
  },
  {
   "cell_type": "code",
   "execution_count": 11,
   "metadata": {},
   "outputs": [
    {
     "ename": "NameError",
     "evalue": "name 'img' is not defined",
     "output_type": "error",
     "traceback": [
      "\u001b[0;31m---------------------------------------------------------------------------\u001b[0m",
      "\u001b[0;31mNameError\u001b[0m                                 Traceback (most recent call last)",
      "Cell \u001b[0;32mIn[11], line 3\u001b[0m\n\u001b[1;32m      1\u001b[0m remote_path \u001b[38;5;241m=\u001b[39m \u001b[38;5;124m'\u001b[39m\u001b[38;5;124m/root/file.pkl\u001b[39m\u001b[38;5;124m'\u001b[39m\n\u001b[1;32m      2\u001b[0m \u001b[38;5;28;01mwith\u001b[39;00m sftp\u001b[38;5;241m.\u001b[39mopen(remote_path, \u001b[38;5;124m'\u001b[39m\u001b[38;5;124mwb\u001b[39m\u001b[38;5;124m'\u001b[39m) \u001b[38;5;28;01mas\u001b[39;00m remote_file:\n\u001b[0;32m----> 3\u001b[0m     remote_file\u001b[38;5;241m.\u001b[39mwrite(\u001b[43mimg\u001b[49m\u001b[38;5;241m.\u001b[39mtobytes())\n",
      "\u001b[0;31mNameError\u001b[0m: name 'img' is not defined"
     ]
    }
   ],
   "source": [
    "remote_path = '/root/file.pkl'\n",
    "with sftp.open(remote_path, 'wb') as remote_file:\n",
    "    remote_file.write(img.tobytes())"
   ]
  },
  {
   "cell_type": "code",
   "execution_count": null,
   "metadata": {},
   "outputs": [],
   "source": []
  },
  {
   "cell_type": "code",
   "execution_count": null,
   "metadata": {},
   "outputs": [],
   "source": []
  },
  {
   "cell_type": "code",
   "execution_count": 3,
   "metadata": {},
   "outputs": [],
   "source": [
    "image = cv2.imread('D:/snap-163123.jpg')\n",
    "img = Image.fromarray(cv2.cvtColor(image, cv2.COLOR_BGR2RGB))\n",
    "img = img.convert('RGB')\n",
    "img = transform(img).numpy()\n",
    "sftp = ssh_client.open_sftp()\n",
    "remote_path = '/root/file.pkl'\n",
    "with sftp.open(remote_path, 'wb') as remote_file:\n",
    "    remote_file.write(img.tobytes())"
   ]
  },
  {
   "cell_type": "code",
   "execution_count": 4,
   "metadata": {},
   "outputs": [],
   "source": [
    "shell = ssh_client.invoke_shell()\n",
    "shell.settimeout(1)"
   ]
  },
  {
   "cell_type": "code",
   "execution_count": 5,
   "metadata": {},
   "outputs": [],
   "source": [
    "command = 'screen -r session_loop'\n",
    "shell_command = command+\"\\n\"\n",
    "shell.send(shell_command)\n",
    "time.sleep(0.1)"
   ]
  },
  {
   "cell_type": "code",
   "execution_count": 6,
   "metadata": {},
   "outputs": [
    {
     "name": "stdout",
     "output_type": "stream",
     "text": [
      "1024\n"
     ]
    }
   ],
   "source": [
    "shell.send('\\n')\n",
    "time.sleep(0.1)\n",
    "while not shell.recv_ready():\n",
    "    pass\n",
    "output = shell.recv(1024)\n",
    "print(len(output))\n",
    "\n",
    "while len(output) > 10:\n",
    "    shell.send('\\n')\n",
    "    time.sleep(0.1)\n",
    "    while not shell.recv_ready():\n",
    "        pass\n",
    "    output = shell.recv(1024)\n",
    "    \n",
    "shell.send('\\n')\n",
    "time.sleep(0.1)\n",
    "while not shell.recv_ready():\n",
    "    pass\n",
    "output = shell.recv(1024)"
   ]
  },
  {
   "cell_type": "code",
   "execution_count": 7,
   "metadata": {},
   "outputs": [
    {
     "name": "stdout",
     "output_type": "stream",
     "text": [
      "0\n",
      "4\n",
      "0\n",
      "0\n",
      "0\n"
     ]
    }
   ],
   "source": [
    "for i in range(5):\n",
    "    img = Image.fromarray(cv2.cvtColor(image, cv2.COLOR_BGR2RGB))\n",
    "    img = img.convert('RGB')\n",
    "    img = transform(img).numpy()\n",
    "    data = np.random.rand(*img.shape).astype(np.float32)\n",
    "    remote_path = '/root/file.pkl'\n",
    "    with sftp.open(remote_path, 'wb') as remote_file:\n",
    "        remote_file.write(data.tobytes()) # ≈10kb\n",
    "    shell.send('\\n')\n",
    "    time.sleep(0.1)\n",
    "    while not shell.recv_ready():\n",
    "        pass\n",
    "    output = shell.recv(1024)\n",
    "    print(output.split()[0].decode()[:-1])"
   ]
  },
  {
   "cell_type": "code",
   "execution_count": 8,
   "metadata": {},
   "outputs": [],
   "source": [
    "for i in range(50):\n",
    "    remote_path = '/root/file.pkl'\n",
    "    with sftp.open(remote_path, 'wb') as remote_file:\n",
    "        remote_file.write(data.tobytes())"
   ]
  },
  {
   "cell_type": "code",
   "execution_count": 10,
   "metadata": {},
   "outputs": [],
   "source": [
    "shell.close()\n",
    "sftp.close()\n",
    "ssh_client.close()"
   ]
  },
  {
   "cell_type": "code",
   "execution_count": null,
   "metadata": {},
   "outputs": [],
   "source": []
  },
  {
   "cell_type": "code",
   "execution_count": null,
   "metadata": {},
   "outputs": [],
   "source": []
  }
 ],
 "metadata": {
  "kernelspec": {
   "display_name": "Python 3.8.0 64-bit ('mmedu')",
   "language": "python",
   "name": "python3"
  },
  "language_info": {
   "codemirror_mode": {
    "name": "ipython",
    "version": 3
   },
   "file_extension": ".py",
   "mimetype": "text/x-python",
   "name": "python",
   "nbconvert_exporter": "python",
   "pygments_lexer": "ipython3",
   "version": "3.10.13"
  },
  "orig_nbformat": 4,
  "vscode": {
   "interpreter": {
    "hash": "6240f11e671ba6c765663a454a8013423fdbf92cc6a910ff99d3ed0dc4ba64aa"
   }
  }
 },
 "nbformat": 4,
 "nbformat_minor": 2
}
